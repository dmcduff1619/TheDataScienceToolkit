{
 "cells": [
  {
   "cell_type": "markdown",
   "metadata": {},
   "source": [
    "Use `pip` to install `twitter`."
   ]
  },
  {
   "cell_type": "code",
   "execution_count": 1,
   "metadata": {},
   "outputs": [
    {
     "name": "stdout",
     "output_type": "stream",
     "text": [
      "Requirement already satisfied: twitter in /opt/conda/lib/python3.6/site-packages\n",
      "\u001b[33mYou are using pip version 9.0.3, however version 10.0.1 is available.\n",
      "You should consider upgrading via the 'pip install --upgrade pip' command.\u001b[0m\n"
     ]
    }
   ],
   "source": [
    "!pip install twitter"
   ]
  },
  {
   "cell_type": "markdown",
   "metadata": {},
   "source": [
    "Import `TwitterStream` and `OAuth` from `twitter`."
   ]
  },
  {
   "cell_type": "code",
   "execution_count": 2,
   "metadata": {},
   "outputs": [],
   "source": [
    "from twitter import OAuth, TwitterStream"
   ]
  },
  {
   "cell_type": "markdown",
   "metadata": {},
   "source": [
    "### `oauth`"
   ]
  },
  {
   "cell_type": "markdown",
   "metadata": {},
   "source": [
    "Create a new object called `oauth` using `OAuth`. \n",
    "\n",
    "    OAuth(token, token_secret, consumer_key, consumer_secret)"
   ]
  },
  {
   "cell_type": "code",
   "execution_count": 3,
   "metadata": {},
   "outputs": [],
   "source": [
    "token          =   \"1019891835244724224-SAuePrJ83GooFRFrnPnUp6sRJXCwnh\"\n",
    "token_secret   =   \"e3rqAGzC1PT7RkvsDJuQhGk4GNhDkRHsKIS2MTZ1W6K9I\"\n",
    "consumer_key   =  \"PCPEuyYLmo8odRntM2mUsTBlJ\"\n",
    "consumer_secret   =  \"FGf83o4A1msRXfImzDNI6uHTINmENukvqCBGGUhPAsWksffj1J\""
   ]
  },
  {
   "cell_type": "code",
   "execution_count": 4,
   "metadata": {},
   "outputs": [],
   "source": [
    "oauth = OAuth(token, token_secret, consumer_key, consumer_secret)"
   ]
  },
  {
   "cell_type": "markdown",
   "metadata": {},
   "source": [
    "Create a new object called `twitter_stream` using `TwitterStream`.\n",
    "\n",
    "Use the argument `auth=oauth` referencing the `oauth` object you just made."
   ]
  },
  {
   "cell_type": "markdown",
   "metadata": {},
   "source": [
    "### `twitter_stream`"
   ]
  },
  {
   "cell_type": "code",
   "execution_count": 5,
   "metadata": {},
   "outputs": [],
   "source": [
    "twitter_stream = TwitterStream (auth=oauth)"
   ]
  },
  {
   "cell_type": "markdown",
   "metadata": {},
   "source": [
    "### `bounding_box`"
   ]
  },
  {
   "cell_type": "markdown",
   "metadata": {},
   "source": [
    "Create a string called `bounding_box`. The string should contain the geo-coordinates of a bounding box separated by commas. These values are for Santa Monica:\n",
    "\n",
    "    -118.5137323688,34.0001996344,-118.4702449172,34.0331651696\n",
    "    \n",
    "You can make your own here: https://boundingbox.klokantech.com. Be sure to specify CSV RAW to get the values in this format.\n",
    "\n",
    "![](https://www.evernote.com/l/AAH3H9KGE6hD9JpPJPFncw09exRyoYSid5IB/image.png)"
   ]
  },
  {
   "cell_type": "code",
   "execution_count": 6,
   "metadata": {},
   "outputs": [],
   "source": [
    "bounding_box = '-118.5137323688,34.0001996344,-118.4702449172,34.0331651696'"
   ]
  },
  {
   "cell_type": "markdown",
   "metadata": {},
   "source": [
    "### `tweet_iterator`\n",
    "\n",
    "Create an object called `tweet_iterator`. \n",
    "\n",
    "1. Use `twitter_stream`.\n",
    "1. Apply `.statuses` to grab statuses.\n",
    "1. Apply a `.filter()` with the argument `locations=bounding_box`."
   ]
  },
  {
   "cell_type": "code",
   "execution_count": 7,
   "metadata": {},
   "outputs": [],
   "source": [
    "tweet_iterator = (twitter_stream.statuses.filter(locations=bounding_box))"
   ]
  },
  {
   "cell_type": "markdown",
   "metadata": {},
   "source": [
    "Get the next value from the `tweet_iterator` and store it as the variable `this_tweet`."
   ]
  },
  {
   "cell_type": "code",
   "execution_count": 8,
   "metadata": {},
   "outputs": [],
   "source": [
    "this_tweet = next(tweet_iterator)"
   ]
  },
  {
   "cell_type": "markdown",
   "metadata": {},
   "source": [
    "\n",
    "What is the type of `this_tweet`?"
   ]
  },
  {
   "cell_type": "code",
   "execution_count": 9,
   "metadata": {},
   "outputs": [
    {
     "data": {
      "text/plain": [
       "twitter.api.TwitterDictResponse"
      ]
     },
     "execution_count": 9,
     "metadata": {},
     "output_type": "execute_result"
    }
   ],
   "source": [
    "type(this_tweet)"
   ]
  },
  {
   "cell_type": "markdown",
   "metadata": {},
   "source": [
    "Display the keys of `this_tweet`."
   ]
  },
  {
   "cell_type": "code",
   "execution_count": 10,
   "metadata": {},
   "outputs": [
    {
     "data": {
      "text/plain": [
       "dict_keys(['created_at', 'id', 'id_str', 'text', 'source', 'truncated', 'in_reply_to_status_id', 'in_reply_to_status_id_str', 'in_reply_to_user_id', 'in_reply_to_user_id_str', 'in_reply_to_screen_name', 'user', 'geo', 'coordinates', 'place', 'contributors', 'is_quote_status', 'quote_count', 'reply_count', 'retweet_count', 'favorite_count', 'entities', 'favorited', 'retweeted', 'filter_level', 'lang', 'timestamp_ms'])"
      ]
     },
     "execution_count": 10,
     "metadata": {},
     "output_type": "execute_result"
    }
   ],
   "source": [
    "this_tweet.keys()"
   ]
  },
  {
   "cell_type": "markdown",
   "metadata": {},
   "source": [
    "Display the `text` and `user` of `this_tweet`."
   ]
  },
  {
   "cell_type": "code",
   "execution_count": 11,
   "metadata": {},
   "outputs": [
    {
     "data": {
      "text/plain": [
       "'Yahweh Yahweh !!!!'"
      ]
     },
     "execution_count": 11,
     "metadata": {},
     "output_type": "execute_result"
    }
   ],
   "source": [
    "this_tweet['text']"
   ]
  },
  {
   "cell_type": "code",
   "execution_count": 12,
   "metadata": {},
   "outputs": [
    {
     "data": {
      "text/plain": [
       "{'id': 1726928652,\n",
       " 'id_str': '1726928652',\n",
       " 'name': 'white Zefendel nobi',\n",
       " 'screen_name': 'HeadlineNobi',\n",
       " 'location': 'Goshen',\n",
       " 'url': 'http://soundcloud.com/shinobinobi',\n",
       " 'description': \"it's up to me to keep my heart on gold shalom; trying not to snap like in between poems.\",\n",
       " 'translator_type': 'none',\n",
       " 'protected': False,\n",
       " 'verified': False,\n",
       " 'followers_count': 302,\n",
       " 'friends_count': 553,\n",
       " 'listed_count': 3,\n",
       " 'favourites_count': 3118,\n",
       " 'statuses_count': 24169,\n",
       " 'created_at': 'Tue Sep 03 23:42:11 +0000 2013',\n",
       " 'utc_offset': None,\n",
       " 'time_zone': None,\n",
       " 'geo_enabled': True,\n",
       " 'lang': 'en',\n",
       " 'contributors_enabled': False,\n",
       " 'is_translator': False,\n",
       " 'profile_background_color': 'C0DEED',\n",
       " 'profile_background_image_url': 'http://abs.twimg.com/images/themes/theme1/bg.png',\n",
       " 'profile_background_image_url_https': 'https://abs.twimg.com/images/themes/theme1/bg.png',\n",
       " 'profile_background_tile': True,\n",
       " 'profile_link_color': '0084B4',\n",
       " 'profile_sidebar_border_color': '000000',\n",
       " 'profile_sidebar_fill_color': 'DDEEF6',\n",
       " 'profile_text_color': '333333',\n",
       " 'profile_use_background_image': True,\n",
       " 'profile_image_url': 'http://pbs.twimg.com/profile_images/1020784767426387968/dhVUPXez_normal.jpg',\n",
       " 'profile_image_url_https': 'https://pbs.twimg.com/profile_images/1020784767426387968/dhVUPXez_normal.jpg',\n",
       " 'profile_banner_url': 'https://pbs.twimg.com/profile_banners/1726928652/1455742973',\n",
       " 'default_profile': False,\n",
       " 'default_profile_image': False,\n",
       " 'following': None,\n",
       " 'follow_request_sent': None,\n",
       " 'notifications': None}"
      ]
     },
     "execution_count": 12,
     "metadata": {},
     "output_type": "execute_result"
    }
   ],
   "source": [
    "this_tweet['user']"
   ]
  },
  {
   "cell_type": "markdown",
   "metadata": {},
   "source": [
    "## Collect Tweets\n",
    "\n",
    "Create an empty list called `tweets`.\n",
    "\n",
    "Use a `for`-loop to collect ten tweets and add them to this list."
   ]
  },
  {
   "cell_type": "code",
   "execution_count": 13,
   "metadata": {},
   "outputs": [],
   "source": [
    "tweets = list()"
   ]
  },
  {
   "cell_type": "code",
   "execution_count": 14,
   "metadata": {},
   "outputs": [],
   "source": [
    "for n in range(10):\n",
    "    tweets.append(next(tweet_iterator))"
   ]
  },
  {
   "cell_type": "markdown",
   "metadata": {},
   "source": [
    "Display `tweets` in a DataFrame."
   ]
  },
  {
   "cell_type": "code",
   "execution_count": 15,
   "metadata": {},
   "outputs": [],
   "source": [
    "import pandas as pd"
   ]
  },
  {
   "cell_type": "markdown",
   "metadata": {},
   "source": [
    "Display just the test of the tweets using DataFrame."
   ]
  },
  {
   "cell_type": "code",
   "execution_count": 16,
   "metadata": {},
   "outputs": [
    {
     "ename": "AttributeError",
     "evalue": "module 'pandas' has no attribute 'Dataframe'",
     "output_type": "error",
     "traceback": [
      "\u001b[0;31m---------------------------------------------------------------------------\u001b[0m",
      "\u001b[0;31mAttributeError\u001b[0m                            Traceback (most recent call last)",
      "\u001b[0;32m<ipython-input-16-0dcddb3b33ee>\u001b[0m in \u001b[0;36m<module>\u001b[0;34m()\u001b[0m\n\u001b[0;32m----> 1\u001b[0;31m \u001b[0mpd\u001b[0m\u001b[0;34m.\u001b[0m\u001b[0mDataframe\u001b[0m\u001b[0;34m(\u001b[0m\u001b[0mtweets\u001b[0m\u001b[0;34m)\u001b[0m\u001b[0;34m.\u001b[0m\u001b[0mtext\u001b[0m\u001b[0;34m\u001b[0m\u001b[0m\n\u001b[0m",
      "\u001b[0;31mAttributeError\u001b[0m: module 'pandas' has no attribute 'Dataframe'"
     ]
    }
   ],
   "source": [
    "pd.Dataframe(tweets).text"
   ]
  },
  {
   "cell_type": "markdown",
   "metadata": {},
   "source": [
    "What is the type of `tweets`?"
   ]
  },
  {
   "cell_type": "code",
   "execution_count": 17,
   "metadata": {},
   "outputs": [
    {
     "data": {
      "text/plain": [
       "list"
      ]
     },
     "execution_count": 17,
     "metadata": {},
     "output_type": "execute_result"
    }
   ],
   "source": [
    "type(tweets)"
   ]
  },
  {
   "cell_type": "markdown",
   "metadata": {},
   "source": [
    "Write a list comprehension to display the type of each of the objects in `tweets`."
   ]
  },
  {
   "cell_type": "code",
   "execution_count": null,
   "metadata": {},
   "outputs": [],
   "source": [
    "tweets = []\n",
    "if i in "
   ]
  },
  {
   "cell_type": "markdown",
   "metadata": {},
   "source": [
    "Import the `json` library."
   ]
  },
  {
   "cell_type": "code",
   "execution_count": 28,
   "metadata": {},
   "outputs": [],
   "source": [
    "import json"
   ]
  },
  {
   "cell_type": "markdown",
   "metadata": {},
   "source": [
    "Create an object called `tweets_string` using `json.dumps()`.\n",
    "\n",
    "Display the first 500 characters of this string. "
   ]
  },
  {
   "cell_type": "code",
   "execution_count": 29,
   "metadata": {},
   "outputs": [
    {
     "data": {
      "text/plain": [
       "'[{\"created_at\": \"Mon Jul 23 02:18:47 +0000 2018\", \"id\": 1021218032985681920, \"id_str\": \"1021218032985681920\", \"text\": \"@WiredSources @soultweeting It is the left that is violent.\", \"display_text_range\": [28, 59], \"source\": \"<a href=\\\\\"http://twitter.com/download/iphone\\\\\" rel=\\\\\"nofollow\\\\\">Twitter for iPhone</a>\", \"truncated\": false, \"in_reply_to_status_id\": 1021147704867590144, \"in_reply_to_status_id_str\": \"1021147704867590144\", \"in_reply_to_user_id\": 901857120085213184, \"in_reply_to_user_id_str\":'"
      ]
     },
     "execution_count": 29,
     "metadata": {},
     "output_type": "execute_result"
    }
   ],
   "source": [
    "tweets_string = json.dumps(tweets)[:500]\n",
    "json.dumps(tweets)[:500]"
   ]
  },
  {
   "cell_type": "markdown",
   "metadata": {},
   "source": [
    "## Write Tweets to Disk\n",
    "\n",
    "Using this pattern\n",
    "\n",
    "    with open(filename_as_string, 'w') as outfile:\n",
    "        json.dump(python_object, outfile)\n",
    "        \n",
    "write `tweets` to disk as json."
   ]
  },
  {
   "cell_type": "code",
   "execution_count": 37,
   "metadata": {},
   "outputs": [],
   "source": [
    "with open('tweets', 'w') as outfile:\n",
    "    json.dump(tweets_string, outfile)"
   ]
  },
  {
   "cell_type": "markdown",
   "metadata": {},
   "source": [
    "## Read Tweets from Disk\n",
    "\n",
    "Using this pattern\n",
    "\n",
    "    with open(filename_as_string) as infile:\n",
    "        json_data=infile.read()\n",
    "        python_object_from_disk = json.loads(json_data)\n",
    "        \n",
    "read the tweets from the json. Store them as `tweets_from_disk`."
   ]
  },
  {
   "cell_type": "code",
   "execution_count": 38,
   "metadata": {},
   "outputs": [],
   "source": [
    "with open(\"tweets\") as infile:\n",
    "    json_data=infile.read()\n",
    "    tweets_from_disk = json.loads(json_data)"
   ]
  },
  {
   "cell_type": "markdown",
   "metadata": {},
   "source": [
    "Display `tweets_from_disk` as a DataFrame."
   ]
  },
  {
   "cell_type": "code",
   "execution_count": 39,
   "metadata": {},
   "outputs": [],
   "source": [
    "import pandas as pd"
   ]
  },
  {
   "cell_type": "code",
   "execution_count": 43,
   "metadata": {},
   "outputs": [
    {
     "ename": "AttributeError",
     "evalue": "module 'pandas' has no attribute 'Dataframe'",
     "output_type": "error",
     "traceback": [
      "\u001b[0;31m---------------------------------------------------------------------------\u001b[0m",
      "\u001b[0;31mAttributeError\u001b[0m                            Traceback (most recent call last)",
      "\u001b[0;32m<ipython-input-43-015cc0e21090>\u001b[0m in \u001b[0;36m<module>\u001b[0;34m()\u001b[0m\n\u001b[0;32m----> 1\u001b[0;31m \u001b[0mpd\u001b[0m\u001b[0;34m.\u001b[0m\u001b[0mDataframe\u001b[0m\u001b[0;34m(\u001b[0m\u001b[0mtweets_from_disk\u001b[0m\u001b[0;34m)\u001b[0m\u001b[0;34m\u001b[0m\u001b[0m\n\u001b[0m",
      "\u001b[0;31mAttributeError\u001b[0m: module 'pandas' has no attribute 'Dataframe'"
     ]
    }
   ],
   "source": [
    "pd.Dataframe(tweets_from_disk)"
   ]
  },
  {
   "cell_type": "code",
   "execution_count": null,
   "metadata": {},
   "outputs": [],
   "source": []
  }
 ],
 "metadata": {
  "kernelspec": {
   "display_name": "Python 3",
   "language": "python",
   "name": "python3"
  },
  "language_info": {
   "codemirror_mode": {
    "name": "ipython",
    "version": 3
   },
   "file_extension": ".py",
   "mimetype": "text/x-python",
   "name": "python",
   "nbconvert_exporter": "python",
   "pygments_lexer": "ipython3",
   "version": "3.6.5"
  }
 },
 "nbformat": 4,
 "nbformat_minor": 2
}
